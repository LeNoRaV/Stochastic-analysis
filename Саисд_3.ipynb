{
  "nbformat": 4,
  "nbformat_minor": 0,
  "metadata": {
    "colab": {
      "provenance": []
    },
    "kernelspec": {
      "name": "python3",
      "display_name": "Python 3"
    },
    "language_info": {
      "name": "python"
    }
  },
  "cells": [
    {
      "cell_type": "code",
      "source": [
        "import numpy as np\n",
        "import seaborn as sb\n",
        "import matplotlib.pyplot as plt\n",
        "import random"
      ],
      "metadata": {
        "id": "T-YUbhIlRYW_"
      },
      "execution_count": null,
      "outputs": []
    },
    {
      "cell_type": "code",
      "execution_count": null,
      "metadata": {
        "id": "CS4rUvyCNfHR"
      },
      "outputs": [],
      "source": [
        "a=0.4\n",
        "μ=-1\n",
        "σ=1\n",
        "D_ε=0.25\n",
        "D_v=0.15\n",
        "n=100"
      ]
    },
    {
      "cell_type": "code",
      "source": [
        "ξ=[]\n",
        "ξ_=[]\n",
        "η=[]\n",
        "ε=[]\n",
        "v=[]\n",
        "γ=0"
      ],
      "metadata": {
        "id": "jJFZ0xa2RyDM"
      },
      "execution_count": null,
      "outputs": []
    },
    {
      "cell_type": "code",
      "source": [
        "for i in range(n):\n",
        "  ε.append(round(random.normalvariate(0,D_ε), 3))\n",
        "#np.savetxt('eps.txt', ε, fmt='%f')\n",
        "ε = np.loadtxt('eps.txt', dtype=float)\n",
        "\n",
        "for i in range(n):\n",
        "  v.append(round(random.normalvariate(0,D_v), 3))\n",
        "#np.savetxt('v.txt', v, fmt='%f')\n",
        "v = np.loadtxt('v.txt', dtype=float)\n",
        "\n",
        "γ=round(random.normalvariate(μ,σ), 3)\n",
        "#np.savetxt('gamma.txt', γ, fmt='%f')\n",
        "γ=-2.979"
      ],
      "metadata": {
        "id": "tP_0SfThSXWV"
      },
      "execution_count": null,
      "outputs": []
    },
    {
      "cell_type": "code",
      "source": [
        "ξ.append(γ)\n",
        "for i in range(1,n):\n",
        "  ξ.append(round(ε[i]+a*ξ[i-1],3))\n",
        "ξ"
      ],
      "metadata": {
        "colab": {
          "base_uri": "https://localhost:8080/"
        },
        "id": "7K6MFr2oTQPi",
        "outputId": "0ea1cdd2-ecbd-43e9-b100-479e6de313f5"
      },
      "execution_count": null,
      "outputs": [
        {
          "output_type": "execute_result",
          "data": {
            "text/plain": [
              "[-2.979,\n",
              " -0.955,\n",
              " -0.488,\n",
              " -0.294,\n",
              " -0.26,\n",
              " -0.445,\n",
              " -0.025,\n",
              " 0.11,\n",
              " 0.388,\n",
              " 0.018,\n",
              " -0.031,\n",
              " 0.184,\n",
              " 0.589,\n",
              " -0.229,\n",
              " -0.193,\n",
              " -0.393,\n",
              " 0.138,\n",
              " 0.458,\n",
              " 0.158,\n",
              " 0.069,\n",
              " 0.435,\n",
              " 0.269,\n",
              " 0.325,\n",
              " -0.61,\n",
              " 0.055,\n",
              " 0.065,\n",
              " -0.145,\n",
              " 0.021,\n",
              " -0.319,\n",
              " 0.235,\n",
              " -0.094,\n",
              " 0.254,\n",
              " 0.078,\n",
              " 0.206,\n",
              " 0.258,\n",
              " 0.263,\n",
              " 0.296,\n",
              " -0.176,\n",
              " -0.338,\n",
              " 0.239,\n",
              " 0.101,\n",
              " -0.253,\n",
              " 0.198,\n",
              " 0.058,\n",
              " -0.119,\n",
              " -0.064,\n",
              " -0.069,\n",
              " -0.241,\n",
              " -0.236,\n",
              " 0.132,\n",
              " -0.377,\n",
              " 0.186,\n",
              " -0.026,\n",
              " -0.253,\n",
              " -0.307,\n",
              " 0.076,\n",
              " 0.295,\n",
              " -0.017,\n",
              " -0.224,\n",
              " -0.173,\n",
              " -0.015,\n",
              " -0.182,\n",
              " 0.051,\n",
              " 0.016,\n",
              " -0.14,\n",
              " -0.287,\n",
              " 0.049,\n",
              " -0.056,\n",
              " -0.205,\n",
              " -0.329,\n",
              " -0.336,\n",
              " -0.646,\n",
              " -0.347,\n",
              " -0.326,\n",
              " -0.257,\n",
              " 0.337,\n",
              " -0.184,\n",
              " -0.671,\n",
              " -0.306,\n",
              " -0.549,\n",
              " -0.275,\n",
              " -0.134,\n",
              " 0.21,\n",
              " 0.365,\n",
              " -0.346,\n",
              " -0.162,\n",
              " 0.126,\n",
              " 0.507,\n",
              " 0.011,\n",
              " -0.216,\n",
              " 0.116,\n",
              " -0.337,\n",
              " -0.284,\n",
              " 0.202,\n",
              " -0.244,\n",
              " -0.15,\n",
              " 0.31,\n",
              " 0.067,\n",
              " 0.475,\n",
              " 0.285]"
            ]
          },
          "metadata": {},
          "execution_count": 119
        }
      ]
    },
    {
      "cell_type": "code",
      "source": [
        "for i in range(n):\n",
        "  η.append(round(ξ[i]+v[i],3))\n",
        "η"
      ],
      "metadata": {
        "colab": {
          "base_uri": "https://localhost:8080/"
        },
        "id": "ablXS8JLTxES",
        "outputId": "5be49106-e868-4a00-c9e8-53bc170d1d2c"
      },
      "execution_count": null,
      "outputs": [
        {
          "output_type": "execute_result",
          "data": {
            "text/plain": [
              "[-2.97,\n",
              " -1.173,\n",
              " -0.515,\n",
              " -0.058,\n",
              " -0.288,\n",
              " -0.4,\n",
              " 0.117,\n",
              " 0.046,\n",
              " 0.405,\n",
              " 0.037,\n",
              " -0.237,\n",
              " 0.224,\n",
              " 0.682,\n",
              " -0.161,\n",
              " -0.058,\n",
              " -0.336,\n",
              " -0.108,\n",
              " 0.346,\n",
              " 0.042,\n",
              " 0.012,\n",
              " 0.518,\n",
              " 0.455,\n",
              " 0.695,\n",
              " -0.708,\n",
              " 0.161,\n",
              " 0.233,\n",
              " -0.125,\n",
              " -0.08,\n",
              " -0.234,\n",
              " 0.163,\n",
              " -0.139,\n",
              " 0.119,\n",
              " 0.089,\n",
              " 0.314,\n",
              " 0.341,\n",
              " 0.517,\n",
              " 0.052,\n",
              " -0.38,\n",
              " -0.228,\n",
              " 0.45,\n",
              " 0.333,\n",
              " -0.253,\n",
              " 0.307,\n",
              " 0.116,\n",
              " -0.057,\n",
              " -0.034,\n",
              " -0.025,\n",
              " -0.358,\n",
              " -0.423,\n",
              " 0.088,\n",
              " -0.448,\n",
              " 0.2,\n",
              " -0.133,\n",
              " -0.095,\n",
              " -0.317,\n",
              " -0.005,\n",
              " 0.213,\n",
              " -0.005,\n",
              " -0.312,\n",
              " -0.083,\n",
              " 0.019,\n",
              " -0.005,\n",
              " 0.059,\n",
              " -0.088,\n",
              " -0.383,\n",
              " -0.207,\n",
              " 0.124,\n",
              " -0.285,\n",
              " -0.072,\n",
              " -0.508,\n",
              " -0.571,\n",
              " -0.802,\n",
              " -0.404,\n",
              " -0.376,\n",
              " -0.304,\n",
              " 0.377,\n",
              " -0.323,\n",
              " -0.691,\n",
              " -0.288,\n",
              " -0.654,\n",
              " -0.382,\n",
              " -0.168,\n",
              " 0.324,\n",
              " 0.365,\n",
              " -0.478,\n",
              " -0.105,\n",
              " 0.221,\n",
              " 0.566,\n",
              " -0.013,\n",
              " 0.017,\n",
              " 0.212,\n",
              " -0.245,\n",
              " -0.192,\n",
              " 0.239,\n",
              " -0.25,\n",
              " -0.228,\n",
              " 0.425,\n",
              " -0.272,\n",
              " 0.59,\n",
              " -0.089]"
            ]
          },
          "metadata": {},
          "execution_count": 120
        }
      ]
    },
    {
      "cell_type": "markdown",
      "source": [
        "![image.png](data:image/png;base64,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)"
      ],
      "metadata": {
        "id": "zLLWe1gRgD3C"
      }
    },
    {
      "cell_type": "code",
      "source": [
        "K=[]\n",
        "K.append(round(σ**2/D_v,3))\n",
        "ρ=D_ε/D_v\n",
        "for i in range(1,n):\n",
        "  K.append(round((a**2*K[i-1]+ρ)/(a**2*K[i-1]+ρ+1),3))\n",
        "\n",
        "ξ_.append(μ)\n",
        "for i in range(1,n):\n",
        "  ξ_.append(round(a*ξ_[i-1]+K[i]*(η[i]-a*ξ_[i-1]),3))\n",
        "\n",
        "K"
      ],
      "metadata": {
        "colab": {
          "base_uri": "https://localhost:8080/"
        },
        "id": "wJIT3r4yfkq8",
        "outputId": "7a4ff9fe-ea1e-4f07-b277-a4b69d97e3ec"
      },
      "execution_count": null,
      "outputs": [
        {
          "output_type": "execute_result",
          "data": {
            "text/plain": [
              "[6.667,\n",
              " 0.732,\n",
              " 0.641,\n",
              " 0.639,\n",
              " 0.639,\n",
              " 0.639,\n",
              " 0.639,\n",
              " 0.639,\n",
              " 0.639,\n",
              " 0.639,\n",
              " 0.639,\n",
              " 0.639,\n",
              " 0.639,\n",
              " 0.639,\n",
              " 0.639,\n",
              " 0.639,\n",
              " 0.639,\n",
              " 0.639,\n",
              " 0.639,\n",
              " 0.639,\n",
              " 0.639,\n",
              " 0.639,\n",
              " 0.639,\n",
              " 0.639,\n",
              " 0.639,\n",
              " 0.639,\n",
              " 0.639,\n",
              " 0.639,\n",
              " 0.639,\n",
              " 0.639,\n",
              " 0.639,\n",
              " 0.639,\n",
              " 0.639,\n",
              " 0.639,\n",
              " 0.639,\n",
              " 0.639,\n",
              " 0.639,\n",
              " 0.639,\n",
              " 0.639,\n",
              " 0.639,\n",
              " 0.639,\n",
              " 0.639,\n",
              " 0.639,\n",
              " 0.639,\n",
              " 0.639,\n",
              " 0.639,\n",
              " 0.639,\n",
              " 0.639,\n",
              " 0.639,\n",
              " 0.639,\n",
              " 0.639,\n",
              " 0.639,\n",
              " 0.639,\n",
              " 0.639,\n",
              " 0.639,\n",
              " 0.639,\n",
              " 0.639,\n",
              " 0.639,\n",
              " 0.639,\n",
              " 0.639,\n",
              " 0.639,\n",
              " 0.639,\n",
              " 0.639,\n",
              " 0.639,\n",
              " 0.639,\n",
              " 0.639,\n",
              " 0.639,\n",
              " 0.639,\n",
              " 0.639,\n",
              " 0.639,\n",
              " 0.639,\n",
              " 0.639,\n",
              " 0.639,\n",
              " 0.639,\n",
              " 0.639,\n",
              " 0.639,\n",
              " 0.639,\n",
              " 0.639,\n",
              " 0.639,\n",
              " 0.639,\n",
              " 0.639,\n",
              " 0.639,\n",
              " 0.639,\n",
              " 0.639,\n",
              " 0.639,\n",
              " 0.639,\n",
              " 0.639,\n",
              " 0.639,\n",
              " 0.639,\n",
              " 0.639,\n",
              " 0.639,\n",
              " 0.639,\n",
              " 0.639,\n",
              " 0.639,\n",
              " 0.639,\n",
              " 0.639,\n",
              " 0.639,\n",
              " 0.639,\n",
              " 0.639,\n",
              " 0.639]"
            ]
          },
          "metadata": {},
          "execution_count": 121
        }
      ]
    },
    {
      "cell_type": "code",
      "source": [
        "ξ_"
      ],
      "metadata": {
        "colab": {
          "base_uri": "https://localhost:8080/"
        },
        "id": "w4LU9Bq-ptqn",
        "outputId": "8d1e2eaa-2fc9-4a2a-fad8-807b2adbd88f"
      },
      "execution_count": null,
      "outputs": [
        {
          "output_type": "execute_result",
          "data": {
            "text/plain": [
              "[-1,\n",
              " -0.966,\n",
              " -0.469,\n",
              " -0.105,\n",
              " -0.199,\n",
              " -0.284,\n",
              " 0.034,\n",
              " 0.034,\n",
              " 0.264,\n",
              " 0.062,\n",
              " -0.142,\n",
              " 0.123,\n",
              " 0.454,\n",
              " -0.037,\n",
              " -0.042,\n",
              " -0.221,\n",
              " -0.101,\n",
              " 0.207,\n",
              " 0.057,\n",
              " 0.016,\n",
              " 0.333,\n",
              " 0.339,\n",
              " 0.493,\n",
              " -0.381,\n",
              " 0.048,\n",
              " 0.156,\n",
              " -0.057,\n",
              " -0.059,\n",
              " -0.158,\n",
              " 0.081,\n",
              " -0.077,\n",
              " 0.065,\n",
              " 0.066,\n",
              " 0.21,\n",
              " 0.248,\n",
              " 0.366,\n",
              " 0.086,\n",
              " -0.23,\n",
              " -0.179,\n",
              " 0.262,\n",
              " 0.251,\n",
              " -0.125,\n",
              " 0.178,\n",
              " 0.1,\n",
              " -0.022,\n",
              " -0.025,\n",
              " -0.02,\n",
              " -0.232,\n",
              " -0.304,\n",
              " 0.012,\n",
              " -0.285,\n",
              " 0.087,\n",
              " -0.072,\n",
              " -0.071,\n",
              " -0.213,\n",
              " -0.034,\n",
              " 0.131,\n",
              " 0.016,\n",
              " -0.197,\n",
              " -0.081,\n",
              " 0.0,\n",
              " -0.003,\n",
              " 0.037,\n",
              " -0.051,\n",
              " -0.252,\n",
              " -0.169,\n",
              " 0.055,\n",
              " -0.174,\n",
              " -0.071,\n",
              " -0.335,\n",
              " -0.413,\n",
              " -0.572,\n",
              " -0.341,\n",
              " -0.29,\n",
              " -0.236,\n",
              " 0.207,\n",
              " -0.177,\n",
              " -0.467,\n",
              " -0.251,\n",
              " -0.454,\n",
              " -0.31,\n",
              " -0.152,\n",
              " 0.185,\n",
              " 0.26,\n",
              " -0.268,\n",
              " -0.106,\n",
              " 0.126,\n",
              " 0.38,\n",
              " 0.047,\n",
              " 0.018,\n",
              " 0.138,\n",
              " -0.137,\n",
              " -0.142,\n",
              " 0.132,\n",
              " -0.141,\n",
              " -0.166,\n",
              " 0.248,\n",
              " -0.138,\n",
              " 0.357,\n",
              " -0.005]"
            ]
          },
          "metadata": {},
          "execution_count": 122
        }
      ]
    },
    {
      "cell_type": "markdown",
      "source": [
        "![image.png](data:image/png;base64,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)"
      ],
      "metadata": {
        "id": "a0cpVSkTiXYM"
      }
    },
    {
      "cell_type": "code",
      "source": [
        "sum=0\n",
        "for i in range(n): sum+=(ξ[i] - ξ_[i])**2/n\n",
        "sum"
      ],
      "metadata": {
        "colab": {
          "base_uri": "https://localhost:8080/"
        },
        "id": "64WEQYy1iERm",
        "outputId": "707b2f82-f895-4910-d3d1-6c9e9a9a6803"
      },
      "execution_count": null,
      "outputs": [
        {
          "output_type": "execute_result",
          "data": {
            "text/plain": [
              "0.05232461000000002"
            ]
          },
          "metadata": {},
          "execution_count": 123
        }
      ]
    },
    {
      "cell_type": "code",
      "source": [
        "xx = np.arange (0, n)\n",
        "sb.set_style(\"whitegrid\")\n",
        "plt.plot(xx, ξ, color='red',label='ξ', lw='0.4')\n",
        "plt.plot(xx, ξ_, color='blue',label='ξ_', lw='0.4')\n",
        "plt.xlabel(\"n\")\n",
        "plt.legend()\n",
        "plt.figure(figsize=(3, 10))\n",
        "plt.show()"
      ],
      "metadata": {
        "colab": {
          "base_uri": "https://localhost:8080/",
          "height": 467
        },
        "id": "hlg8tnGekJAk",
        "outputId": "3699cd63-444e-469b-e30d-7936fb0c744a"
      },
      "execution_count": null,
      "outputs": [
        {
          "output_type": "display_data",
          "data": {
            "text/plain": [
              "<Figure size 640x480 with 1 Axes>"
            ],
            "image/png": "[encoded data removed]"
          },
          "metadata": {}
        },
        {
          "output_type": "display_data",
          "data": {
            "text/plain": [
              "<Figure size 300x1000 with 0 Axes>"
            ]
          },
          "metadata": {}
        }
      ]
    },
    {
      "cell_type": "code",
      "source": [
        "ξ=[]\n",
        "ξ_=[]\n",
        "η=[]\n",
        "ε=[]\n",
        "v=[]\n",
        "\n",
        "for i in range(n):\n",
        "  ε.append(round(np.random.uniform(-(3*D_ε)**0.5,(3*D_ε)**0.5), 3))\n",
        "#np.savetxt('eps_2.txt', ε, fmt='%f')\n",
        "ε = np.loadtxt('eps_2.txt', dtype=float)\n",
        "\n",
        "for i in range(n):\n",
        "  v.append(round(np.random.uniform(-(3*D_v)**0.5,(3*D_v)**0.5), 3))\n",
        "#np.savetxt('v_\".txt', v, fmt='%f')\n",
        "v = np.loadtxt('v_\".txt', dtype=float)"
      ],
      "metadata": {
        "id": "NMv1wXB-lRKX"
      },
      "execution_count": null,
      "outputs": []
    },
    {
      "cell_type": "code",
      "source": [
        "v"
      ],
      "metadata": {
        "colab": {
          "base_uri": "https://localhost:8080/"
        },
        "id": "kD4PUmy2rM2K",
        "outputId": "1f6e9481-9d53-4bda-f156-ca0bf3d2e9ac"
      },
      "execution_count": null,
      "outputs": [
        {
          "output_type": "execute_result",
          "data": {
            "text/plain": [
              "array([-0.353,  0.6  ,  0.608, -0.3  ,  0.404, -0.6  ,  0.41 , -0.522,\n",
              "        0.05 ,  0.274,  0.553, -0.422,  0.477,  0.586,  0.185, -0.247,\n",
              "        0.241, -0.665,  0.14 ,  0.645,  0.134,  0.433,  0.581, -0.628,\n",
              "        0.5  , -0.455,  0.362,  0.264,  0.599, -0.582,  0.295, -0.462,\n",
              "       -0.413, -0.646,  0.34 , -0.203,  0.183,  0.059,  0.575,  0.498,\n",
              "        0.537, -0.279,  0.213,  0.289, -0.468,  0.231,  0.58 ,  0.352,\n",
              "       -0.35 , -0.445, -0.33 ,  0.23 , -0.565,  0.653, -0.615, -0.499,\n",
              "       -0.614, -0.293, -0.328,  0.031, -0.586, -0.385, -0.39 , -0.172,\n",
              "       -0.442, -0.196,  0.134, -0.032,  0.59 , -0.095, -0.282, -0.25 ,\n",
              "       -0.351, -0.022, -0.265, -0.512, -0.327,  0.64 ,  0.106, -0.024,\n",
              "       -0.131,  0.338,  0.307,  0.618,  0.606, -0.307,  0.121, -0.163,\n",
              "        0.422, -0.338, -0.393,  0.058, -0.143, -0.631,  0.585,  0.609,\n",
              "        0.669,  0.635,  0.389,  0.614])"
            ]
          },
          "metadata": {},
          "execution_count": 134
        }
      ]
    },
    {
      "cell_type": "code",
      "source": [
        "ξ.append(γ)\n",
        "for i in range(1,n):\n",
        "  ξ.append(round(ε[i]+a*ξ[i-1],3))\n",
        "ξ"
      ],
      "metadata": {
        "colab": {
          "base_uri": "https://localhost:8080/"
        },
        "id": "mUndVexkl-d4",
        "outputId": "c5ebc67c-1f89-4165-9063-8dfe2c38d936"
      },
      "execution_count": null,
      "outputs": [
        {
          "output_type": "execute_result",
          "data": {
            "text/plain": [
              "[-2.979,\n",
              " -0.543,\n",
              " 0.087,\n",
              " -0.045,\n",
              " -0.413,\n",
              " 0.418,\n",
              " 0.124,\n",
              " -0.497,\n",
              " -0.147,\n",
              " -0.183,\n",
              " -0.035,\n",
              " -0.684,\n",
              " -0.111,\n",
              " -0.341,\n",
              " 0.175,\n",
              " 0.267,\n",
              " 0.732,\n",
              " -0.008,\n",
              " -0.484,\n",
              " -0.026,\n",
              " 0.818,\n",
              " 0.84,\n",
              " 0.435,\n",
              " 0.047,\n",
              " 0.051,\n",
              " 0.019,\n",
              " 0.305,\n",
              " 0.897,\n",
              " 0.36,\n",
              " 0.09,\n",
              " -0.012,\n",
              " 0.483,\n",
              " 0.643,\n",
              " -0.034,\n",
              " 0.799,\n",
              " 0.769,\n",
              " 0.522,\n",
              " -0.415,\n",
              " 0.059,\n",
              " -0.06,\n",
              " 0.514,\n",
              " 0.98,\n",
              " -0.207,\n",
              " -0.575,\n",
              " -0.427,\n",
              " -0.216,\n",
              " -0.87,\n",
              " -0.013,\n",
              " -0.621,\n",
              " -1.077,\n",
              " -0.369,\n",
              " 0.457,\n",
              " 0.44,\n",
              " 0.627,\n",
              " 0.46,\n",
              " 0.789,\n",
              " -0.322,\n",
              " -0.328,\n",
              " -0.185,\n",
              " 0.041,\n",
              " 0.426,\n",
              " -0.066,\n",
              " 0.178,\n",
              " 0.402,\n",
              " 0.788,\n",
              " 0.71,\n",
              " -0.339,\n",
              " 0.638,\n",
              " 0.903,\n",
              " 0.273,\n",
              " 0.291,\n",
              " 0.4,\n",
              " 1.026,\n",
              " -0.008,\n",
              " -0.374,\n",
              " -0.171,\n",
              " 0.136,\n",
              " 0.749,\n",
              " 0.847,\n",
              " 0.705,\n",
              " -0.201,\n",
              " -0.152,\n",
              " -0.821,\n",
              " 0.351,\n",
              " -0.578,\n",
              " 0.27,\n",
              " 0.002,\n",
              " 0.273,\n",
              " 0.21,\n",
              " 0.727,\n",
              " 1.154,\n",
              " 0.868,\n",
              " -0.192,\n",
              " 0.228,\n",
              " 0.297,\n",
              " -0.085,\n",
              " 0.126,\n",
              " 0.362,\n",
              " 0.312,\n",
              " 0.453]"
            ]
          },
          "metadata": {},
          "execution_count": 128
        }
      ]
    },
    {
      "cell_type": "code",
      "source": [
        "for i in range(n):\n",
        "  η.append(round(ξ[i]+v[i],3))\n",
        "η"
      ],
      "metadata": {
        "colab": {
          "base_uri": "https://localhost:8080/"
        },
        "id": "Tt6yWHz6mAfM",
        "outputId": "df7d303a-ecd3-4b5a-a502-a726c028b771"
      },
      "execution_count": null,
      "outputs": [
        {
          "output_type": "execute_result",
          "data": {
            "text/plain": [
              "[-3.332,\n",
              " 0.057,\n",
              " 0.695,\n",
              " -0.345,\n",
              " -0.009,\n",
              " -0.182,\n",
              " 0.534,\n",
              " -1.019,\n",
              " -0.097,\n",
              " 0.091,\n",
              " 0.518,\n",
              " -1.106,\n",
              " 0.366,\n",
              " 0.245,\n",
              " 0.36,\n",
              " 0.02,\n",
              " 0.973,\n",
              " -0.673,\n",
              " -0.344,\n",
              " 0.619,\n",
              " 0.952,\n",
              " 1.273,\n",
              " 1.016,\n",
              " -0.581,\n",
              " 0.551,\n",
              " -0.436,\n",
              " 0.667,\n",
              " 1.161,\n",
              " 0.959,\n",
              " -0.492,\n",
              " 0.283,\n",
              " 0.021,\n",
              " 0.23,\n",
              " -0.68,\n",
              " 1.139,\n",
              " 0.566,\n",
              " 0.705,\n",
              " -0.356,\n",
              " 0.634,\n",
              " 0.438,\n",
              " 1.051,\n",
              " 0.701,\n",
              " 0.006,\n",
              " -0.286,\n",
              " -0.895,\n",
              " 0.015,\n",
              " -0.29,\n",
              " 0.339,\n",
              " -0.971,\n",
              " -1.522,\n",
              " -0.699,\n",
              " 0.687,\n",
              " -0.125,\n",
              " 1.28,\n",
              " -0.155,\n",
              " 0.29,\n",
              " -0.936,\n",
              " -0.621,\n",
              " -0.513,\n",
              " 0.072,\n",
              " -0.16,\n",
              " -0.451,\n",
              " -0.212,\n",
              " 0.23,\n",
              " 0.346,\n",
              " 0.514,\n",
              " -0.205,\n",
              " 0.606,\n",
              " 1.493,\n",
              " 0.178,\n",
              " 0.009,\n",
              " 0.15,\n",
              " 0.675,\n",
              " -0.03,\n",
              " -0.639,\n",
              " -0.683,\n",
              " -0.191,\n",
              " 1.389,\n",
              " 0.953,\n",
              " 0.681,\n",
              " -0.332,\n",
              " 0.186,\n",
              " -0.514,\n",
              " 0.969,\n",
              " 0.028,\n",
              " -0.037,\n",
              " 0.123,\n",
              " 0.11,\n",
              " 0.632,\n",
              " 0.389,\n",
              " 0.761,\n",
              " 0.926,\n",
              " -0.335,\n",
              " -0.403,\n",
              " 0.882,\n",
              " 0.524,\n",
              " 0.795,\n",
              " 0.997,\n",
              " 0.701,\n",
              " 1.067]"
            ]
          },
          "metadata": {},
          "execution_count": 129
        }
      ]
    },
    {
      "cell_type": "code",
      "source": [
        "K=[]\n",
        "K.append(σ**2/D_v)\n",
        "ρ=D_ε/D_v\n",
        "for i in range(1,n):\n",
        "  K.append(round((a**2*K[i-1]+ρ)/(a**2*K[i-1]+ρ+1),3))\n",
        "\n",
        "ξ_.append(μ)\n",
        "for i in range(1,n):\n",
        "  ξ_.append(round(a*ξ_[i-1]+K[i]*(η[i]-a*ξ_[i-1]),3))"
      ],
      "metadata": {
        "id": "x-fYP6awmCYI"
      },
      "execution_count": null,
      "outputs": []
    },
    {
      "cell_type": "code",
      "source": [
        "sum=0\n",
        "for i in range(n): sum+=(ξ[i] - ξ_[i])**2/n\n",
        "sum"
      ],
      "metadata": {
        "colab": {
          "base_uri": "https://localhost:8080/"
        },
        "id": "UuiWWx2GmEN5",
        "outputId": "e27eb693-65f5-478c-debf-75116304c3df"
      },
      "execution_count": null,
      "outputs": [
        {
          "output_type": "execute_result",
          "data": {
            "text/plain": [
              "0.13851712999999996"
            ]
          },
          "metadata": {},
          "execution_count": 131
        }
      ]
    },
    {
      "cell_type": "code",
      "source": [
        "xx = np.arange (0, n)\n",
        "sb.set_style(\"whitegrid\")\n",
        "plt.plot(xx, ξ, color='red',label='ξ', lw='0.4')\n",
        "plt.plot(xx, ξ_, color='blue',label='ξ_', lw='0.4')\n",
        "plt.xlabel(\"n\")\n",
        "plt.legend()\n",
        "plt.figure(figsize=(3, 10))\n",
        "plt.show()"
      ],
      "metadata": {
        "colab": {
          "base_uri": "https://localhost:8080/",
          "height": 467
        },
        "id": "kwORc6s4mF5k",
        "outputId": "a853b188-5069-4f7d-9441-eb9a2a415076"
      },
      "execution_count": null,
      "outputs": [
        {
          "output_type": "display_data",
          "data": {
            "text/plain": [
              "<Figure size 640x480 with 1 Axes>"
            ],
            "image/png": "[encoded data removed]"
          },
          "metadata": {}
        },
        {
          "output_type": "display_data",
          "data": {
            "text/plain": [
              "<Figure size 300x1000 with 0 Axes>"
            ]
          },
          "metadata": {}
        }
      ]
    }
  ]
}